{
 "cells": [
  {
   "cell_type": "code",
   "execution_count": null,
   "id": "652cc192",
   "metadata": {},
   "outputs": [],
   "source": [
    "import pickle\n",
    "import os\n",
    "from google_auth_oauthlib.flow import Flow, InstalledAppFlow\n",
    "from googleapiclient.discovery import build\n",
    "from googleapiclient.http import MediaFileUpload, MediaIoBaseDownload\n",
    "from google.auth.transport.requests import Request\n",
    "import io\n",
    "from zipfile import ZipFile, ZIP_DEFLATED\n",
    "import shutil\n",
    "import time"
   ]
  },
  {
   "cell_type": "code",
   "execution_count": null,
   "id": "c2b47bf0",
   "metadata": {},
   "outputs": [],
   "source": [
    "def Create_Service(client_secret_file, api_name, api_version, *scopes):\n",
    "    # print(client_secret_file, api_name, api_version, scopes, sep='-')\n",
    "    CLIENT_SECRET_FILE = client_secret_file\n",
    "    API_SERVICE_NAME = api_name\n",
    "    API_VERSION = api_version\n",
    "    SCOPES = [scope for scope in scopes[0]]\n",
    "    print(SCOPES)\n",
    "\n",
    "    cred = None\n",
    "\n",
    "    pickle_file = f'token_{API_SERVICE_NAME}_{API_VERSION}.pickle'\n",
    "    # print(pickle_file)\n",
    "\n",
    "    # if pickle_file exists, no need to redirect into the google sign in\n",
    "    if os.path.exists(pickle_file):\n",
    "        with open(pickle_file, 'rb') as token:\n",
    "            cred = pickle.load(token)\n",
    "\n",
    "    # if there is no pickle file, or the pickle file is not valid\n",
    "    if not cred or not cred.valid:\n",
    "        if cred and cred.expired and cred.refresh_token:\n",
    "            cred.refresh(Request())\n",
    "        else:\n",
    "            flow = InstalledAppFlow.from_client_secrets_file(CLIENT_SECRET_FILE, SCOPES)\n",
    "            cred = flow.run_local_server()\n",
    "\n",
    "        with open(pickle_file, 'wb') as token:\n",
    "            pickle.dump(cred, token)\n",
    "\n",
    "    try:\n",
    "        service = build(API_SERVICE_NAME, API_VERSION, credentials=cred)\n",
    "        print(API_SERVICE_NAME, 'service created successfully')\n",
    "        return service\n",
    "    except Exception as e:\n",
    "        print('Unable to connect.')\n",
    "        print(e)\n",
    "        return None"
   ]
  },
  {
   "cell_type": "code",
   "execution_count": null,
   "id": "58cb62e0",
   "metadata": {},
   "outputs": [],
   "source": [
    "!cp -r /kaggle/input/credent/. ."
   ]
  },
  {
   "cell_type": "code",
   "execution_count": null,
   "id": "ef80cfdb",
   "metadata": {},
   "outputs": [],
   "source": [
    "# now working directory consists of two gdrive cred files"
   ]
  },
  {
   "attachments": {},
   "cell_type": "markdown",
   "id": "a53bf5cd",
   "metadata": {},
   "source": [
    "# Create drive service"
   ]
  },
  {
   "cell_type": "code",
   "execution_count": null,
   "id": "e66ef71b",
   "metadata": {},
   "outputs": [],
   "source": [
    "CLIENT_SECRET_FILE = 'client_secret_file.json'\n",
    "API_NAME = 'drive'\n",
    "API_VERSION = 'v3'\n",
    "SCOPES = ['https://www.googleapis.com/auth/drive',\n",
    "          'https://www.googleapis.com/auth/drive.appdata',\n",
    "          'https://www.googleapis.com/auth/drive.file',\n",
    "          'https://www.googleapis.com/auth/drive.metadata',\n",
    "          'https://www.googleapis.com/auth/drive.metadata.readonly',\n",
    "          'https://www.googleapis.com/auth/drive.readonly',\n",
    "          'https://www.googleapis.com/auth/drive.activity']"
   ]
  },
  {
   "cell_type": "code",
   "execution_count": null,
   "id": "e194728a",
   "metadata": {},
   "outputs": [],
   "source": [
    "for i in range(5):\n",
    "    try:\n",
    "        service = Create_Service(CLIENT_SECRET_FILE, API_NAME, API_VERSION, SCOPES)\n",
    "        break\n",
    "    except:\n",
    "        pass"
   ]
  },
  {
   "attachments": {},
   "cell_type": "markdown",
   "id": "10b0044f",
   "metadata": {
    "heading_collapsed": true
   },
   "source": [
    "# get for_cloud.zip from drive\n",
    "no need to delete from drive now"
   ]
  },
  {
   "cell_type": "code",
   "execution_count": null,
   "id": "827a3ca5",
   "metadata": {
    "hidden": true
   },
   "outputs": [],
   "source": [
    "main_folder_id = 'YOUR_FOLDER_ID'\n",
    "results = service.files().list(q=f\"'{main_folder_id}' in parents and trashed = false\",\n",
    "                               fields=\"nextPageToken, files(id, name, mimeType)\").execute()\n",
    "items = results.get('files', [])\n",
    "zip_file = next((item for item in items if item['name'] == 'for_cloud.zip'), None)\n",
    "zip_file_id = zip_file['id']\n",
    "\n",
    "request = service.files().get_media(fileId=zip_file_id)\n",
    "fh = io.BytesIO()\n",
    "downloader = MediaIoBaseDownload(fd=fh, request=request)\n",
    "\n",
    "done = False\n",
    "while not done:\n",
    "    status, done = downloader.next_chunk()\n",
    "    print('Download progress {0}'.format(status.progress() * 100))\n",
    "\n",
    "fh.seek(0)\n",
    "\n",
    "with open('for_cloud.zip', 'wb') as f:\n",
    "    f.write(fh.read())\n",
    "    f.close()"
   ]
  },
  {
   "attachments": {},
   "cell_type": "markdown",
   "id": "8dc9c4d2",
   "metadata": {
    "heading_collapsed": true,
    "hidden": true
   },
   "source": [
    "### unzip into for_cloud folder"
   ]
  },
  {
   "cell_type": "code",
   "execution_count": null,
   "id": "59afb8a4",
   "metadata": {
    "hidden": true
   },
   "outputs": [],
   "source": [
    "zip_file = 'for_cloud.zip'\n",
    "with ZipFile(zip_file, 'r') as zObject:\n",
    "    zObject.extractall(path='for_cloud')\n",
    "print('Extracted.')"
   ]
  },
  {
   "attachments": {},
   "cell_type": "markdown",
   "id": "e29d6842",
   "metadata": {},
   "source": [
    "# train"
   ]
  },
  {
   "cell_type": "code",
   "execution_count": null,
   "id": "781780ae",
   "metadata": {},
   "outputs": [],
   "source": [
    "!pip install ultralytics==8.0.35"
   ]
  },
  {
   "cell_type": "code",
   "execution_count": null,
   "id": "eb0d62ed",
   "metadata": {},
   "outputs": [],
   "source": [
    "with open('for_cloud/custom_data.yaml', 'r') as f:\n",
    "    lines = f.readlines()\n",
    "lines[0] = \"path: '/kaggle/working/for_cloud/dataset'\\n\"\n",
    "\n",
    "file_content = ''\n",
    "for line in lines:\n",
    "    file_content = file_content + line\n",
    "    \n",
    "with open('for_cloud/custom_data.yaml', 'w') as f:\n",
    "    f.write(file_content)"
   ]
  },
  {
   "cell_type": "code",
   "execution_count": null,
   "id": "cd0e4c49",
   "metadata": {},
   "outputs": [],
   "source": [
    "!yolo task=detect mode=train model=yolov8s.pt imgsz=640 data=for_cloud/custom_data.yaml epochs=200 batch=8 name=first_train augment=True optimize=True patience=200"
   ]
  },
  {
   "attachments": {},
   "cell_type": "markdown",
   "id": "c4b7c3b7",
   "metadata": {
    "heading_collapsed": true
   },
   "source": [
    "## copy best.pt to working"
   ]
  },
  {
   "cell_type": "code",
   "execution_count": null,
   "id": "51fc5094",
   "metadata": {
    "hidden": true
   },
   "outputs": [],
   "source": [
    "!cp runs/detect/first_train/weights/best.pt ."
   ]
  },
  {
   "attachments": {},
   "cell_type": "markdown",
   "id": "f48ac1ea",
   "metadata": {},
   "source": [
    "## delete existing best.pt and zip file from drive, upload new to drive"
   ]
  },
  {
   "cell_type": "code",
   "execution_count": null,
   "id": "ced94fb7",
   "metadata": {},
   "outputs": [],
   "source": [
    "try:\n",
    "    pt_file = next((item for item in items if item['name'] == 'best.pt'), None)\n",
    "    pt_file_id = pt_file['id']\n",
    "    service.files().delete(fileId=pt_file_id).execute()\n",
    "    print('Old weight deleted from drive.')\n",
    "except:\n",
    "    print('No best.pt in drive, so cant delete')\n",
    "    pass\n",
    "\n",
    "for i in range(5):\n",
    "    try:\n",
    "        service.files().delete(fileId=zip_file_id).execute()\n",
    "        break\n",
    "    except:\n",
    "        pass"
   ]
  },
  {
   "cell_type": "code",
   "execution_count": null,
   "id": "a715436e",
   "metadata": {},
   "outputs": [],
   "source": [
    "file_name = 'best.pt'\n",
    "file_path = 'best.pt'\n",
    "mime_type = 'application/octet-stream'\n",
    "file_metadata = {\n",
    "    'name': file_name,\n",
    "    'parents': [main_folder_id]\n",
    "}\n",
    "media = MediaFileUpload(file_path, mimetype=mime_type)\n",
    "service.files().create(body=file_metadata,media_body=media, fields='id').execute()\n",
    "print('Uploaded successfully')"
   ]
  }
 ],
 "metadata": {
  "kernelspec": {
   "display_name": "Python 3 (ipykernel)",
   "language": "python",
   "name": "python3"
  },
  "language_info": {
   "codemirror_mode": {
    "name": "ipython",
    "version": 3
   },
   "file_extension": ".py",
   "mimetype": "text/x-python",
   "name": "python",
   "nbconvert_exporter": "python",
   "pygments_lexer": "ipython3",
   "version": "3.9.16"
  }
 },
 "nbformat": 4,
 "nbformat_minor": 5
}
